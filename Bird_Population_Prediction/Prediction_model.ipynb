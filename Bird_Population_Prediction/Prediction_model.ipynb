{
  "nbformat": 4,
  "nbformat_minor": 0,
  "metadata": {
    "colab": {
      "provenance": []
    },
    "kernelspec": {
      "name": "python3",
      "display_name": "Python 3"
    },
    "language_info": {
      "name": "python"
    }
  },
  "cells": [
    {
      "cell_type": "code",
      "execution_count": null,
      "metadata": {
        "id": "2mJqkBhIWQal"
      },
      "outputs": [],
      "source": [
        "import pandas as pd\n",
        "import numpy as np\n",
        "import matplotlib.pyplot as plt\n",
        "from datetime import datetime\n",
        "\n",
        "from pylab import rcParams\n",
        "import statsmodels.api as sm\n",
        "import warnings\n",
        "import itertools\n",
        "from keras.models import Model\n",
        "from keras.layers import Input, Dense, LSTM, Bidirectional\n",
        "from keras import backend as K\n",
        "import numpy as np\n",
        "import matplotlib.pyplot as plt\n",
        "prediction_data=pd.read_excel('/content/예측용_데이터.xlsx')\n",
        "df=pd.read_excel('/content/학습용_데이터.xlsx')\n",
        "df.head()"
      ]
    },
    {
      "cell_type": "code",
      "source": [
        "from sklearn.preprocessing import MinMaxScaler\n",
        "\n",
        "df.sort_index(ascending=False).reset_index(drop=True)\n",
        "\n",
        "scaler = MinMaxScaler()\n",
        "scale_cols = ['평균기온(℃)','평균최고기온(℃)','최고기온(℃)','평균최저기온(℃)','최저기온(℃)','강수량','인구','아황산가스','일산화탄소','이산화질소','철새 합계'] ##수정 필요\n",
        "df_scaled = scaler.fit_transform(df[scale_cols])\n",
        "df_scaled = pd.DataFrame(df_scaled)\n",
        "df_scaled.columns = scale_cols\n",
        "\n",
        "df_scaled"
      ],
      "metadata": {
        "id": "lZVsh79SWYJ-"
      },
      "execution_count": null,
      "outputs": []
    },
    {
      "cell_type": "code",
      "source": [
        "TEST_SIZE = 60\n",
        "\n",
        "train = df_scaled[:-TEST_SIZE]\n",
        "test = df_scaled[-TEST_SIZE:]"
      ],
      "metadata": {
        "id": "aq0XDik9WZrg"
      },
      "execution_count": null,
      "outputs": []
    },
    {
      "cell_type": "code",
      "source": [
        "from sklearn.model_selection import train_test_split\n",
        "\n",
        "feature_cols = ['평균기온(℃)','평균최고기온(℃)','최고기온(℃)','평균최저기온(℃)','최저기온(℃)','강수량','인구','아황산가스','일산화탄소','이산화질소','철새 합계'] \n",
        "label_cols = ['철새 합계']\n",
        "\n",
        "train_feature = train.iloc[:, :-1]\n",
        "train_label = train.iloc[:, -1]\n",
        "\n",
        "test_feature = test.iloc[:, :-1]\n",
        "test_label = test.iloc[:, -1]\n",
        "\n",
        "\n",
        "x_train, x_valid, y_train, y_valid = train_test_split(train_feature, train_label, test_size=0.2)\n",
        "\n",
        "x_train.shape, x_valid.shape"
      ],
      "metadata": {
        "id": "Z9vPjKxPWato"
      },
      "execution_count": null,
      "outputs": []
    },
    {
      "cell_type": "code",
      "source": [
        "prediction_data\n",
        "\n",
        "prediction_data.sort_index(ascending=False).reset_index(drop=True)\n",
        "\n",
        "scaler = MinMaxScaler()\n",
        "scale_cols = ['평균기온(℃)','평균최고기온(℃)','최고기온(℃)','평균최저기온(℃)','최저기온(℃)','강수량','인구','아황산가스','일산화탄소','이산화질소','철새 합계'] ##수정 필요\n",
        "pdf_scaled = scaler.fit_transform(prediction_data[scale_cols])\n",
        "pdf_scaled = pd.DataFrame(pdf_scaled)\n",
        "pdf_scaled.columns = scale_cols\n",
        "\n",
        "pdf_scaled"
      ],
      "metadata": {
        "id": "0fRal-_TWb32"
      },
      "execution_count": null,
      "outputs": []
    },
    {
      "cell_type": "code",
      "source": [
        "pdf_scaled.columns"
      ],
      "metadata": {
        "id": "aYt8njrIWdTx"
      },
      "execution_count": null,
      "outputs": []
    },
    {
      "cell_type": "code",
      "source": [
        "from sklearn.model_selection import train_test_split\n",
        "\n",
        "prediction_feature=pdf_scaled[['평균기온(℃)', '평균최고기온(℃)', '최고기온(℃)', '평균최저기온(℃)', '최저기온(℃)', '강수량', '인구','아황산가스', '일산화탄소', '이산화질소']]\n",
        "prediction_feature"
      ],
      "metadata": {
        "id": "QwuXF7IWWeTW"
      },
      "execution_count": null,
      "outputs": []
    },
    {
      "cell_type": "code",
      "source": [
        "rdr_prediction=model_rfr.predict(prediction_feature)"
      ],
      "metadata": {
        "id": "AecVd9nuWfh1"
      },
      "execution_count": null,
      "outputs": []
    },
    {
      "cell_type": "code",
      "source": [
        "predict_evaluation = pd.DataFrame(rdr_prediction, columns = ['prediction'])\n",
        "predict_evaluation"
      ],
      "metadata": {
        "id": "Ht-oB9EcWgl8"
      },
      "execution_count": null,
      "outputs": []
    },
    {
      "cell_type": "code",
      "source": [
        "pdf_scaled"
      ],
      "metadata": {
        "id": "lgiZ9QaEWhre"
      },
      "execution_count": null,
      "outputs": []
    },
    {
      "cell_type": "code",
      "source": [
        "from sklearn.ensemble import RandomForestRegressor\n",
        "\n",
        "model_rfr = RandomForestRegressor()\n",
        "model_rfr.fit(x_train, y_train)\n",
        "rfr_pred_y = model_rfr.predict(test_feature)\n",
        "\n",
        "plt.plot(test_label.array, label = 'actual')\n",
        "plt.plot(rfr_pred_y, label = 'prediction')\n",
        "plt.legend()\n",
        "plt.show()"
      ],
      "metadata": {
        "id": "Gx_Zmmc4Wi7b"
      },
      "execution_count": null,
      "outputs": []
    },
    {
      "cell_type": "markdown",
      "source": [
        "# **model validation evaluation**"
      ],
      "metadata": {
        "id": "BNUwkR9rWkmd"
      }
    },
    {
      "cell_type": "code",
      "source": [
        "from sklearn.metrics import mean_squared_error\n",
        "import math\n",
        "from sklearn.model_selection import cross_val_score\n",
        "import pandas as pd\n",
        "import numpy as np\n",
        "from sklearn.model_selection import GridSearchCV"
      ],
      "metadata": {
        "id": "48g5D8K4WoYh"
      },
      "execution_count": null,
      "outputs": []
    },
    {
      "cell_type": "code",
      "source": [
        "# train rmse\n",
        "train_predict = model_rfr.predict(x_train)\n",
        "print(\"RMSE':{}\".format(math.sqrt(mean_squared_error(train_predict, y_train))) )\n",
        " \n",
        "# validation rmse\n",
        "valid_predict = model_rfr.predict(x_valid)\n",
        "print(\"RMSE':{}\".format(math.sqrt(mean_squared_error(valid_predict, y_valid))) )\n",
        " \n"
      ],
      "metadata": {
        "id": "7FiK4Ba-Wpgw"
      },
      "execution_count": null,
      "outputs": []
    }
  ]
}