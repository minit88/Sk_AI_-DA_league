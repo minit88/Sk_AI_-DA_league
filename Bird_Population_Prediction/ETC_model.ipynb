{
  "nbformat": 4,
  "nbformat_minor": 0,
  "metadata": {
    "colab": {
      "provenance": []
    },
    "kernelspec": {
      "name": "python3",
      "display_name": "Python 3"
    },
    "language_info": {
      "name": "python"
    }
  },
  "cells": [
    {
      "cell_type": "code",
      "execution_count": null,
      "metadata": {
        "id": "HhPyfJoGWteC"
      },
      "outputs": [],
      "source": [
        "import pandas as pd\n",
        "import numpy as np\n",
        "import matplotlib.pyplot as plt\n",
        "from datetime import datetime\n",
        "\n",
        "from pylab import rcParams\n",
        "import statsmodels.api as sm\n",
        "import warnings\n",
        "import itertools\n",
        "from keras.models import Model\n",
        "from keras.layers import Input, Dense, LSTM, Bidirectional\n",
        "from keras import backend as K\n",
        "import numpy as np\n",
        "import matplotlib.pyplot as plt\n",
        "prediction_data=pd.read_excel('/content/예측용_데이터.xlsx')\n",
        "df=pd.read_excel('/content/학습용_데이터.xlsx')\n",
        "df.head()"
      ]
    },
    {
      "cell_type": "code",
      "source": [
        "from sklearn.preprocessing import MinMaxScaler\n",
        "\n",
        "df.sort_index(ascending=False).reset_index(drop=True)\n",
        "\n",
        "scaler = MinMaxScaler()\n",
        "scale_cols = ['평균기온(℃)','평균최고기온(℃)','최고기온(℃)','평균최저기온(℃)','최저기온(℃)','강수량','인구','아황산가스','일산화탄소','이산화질소','철새 합계'] ##수정 필요\n",
        "df_scaled = scaler.fit_transform(df[scale_cols])\n",
        "df_scaled = pd.DataFrame(df_scaled)\n",
        "df_scaled.columns = scale_cols\n",
        "\n",
        "df_scaled"
      ],
      "metadata": {
        "id": "llXt_cPnXOxP"
      },
      "execution_count": null,
      "outputs": []
    },
    {
      "cell_type": "code",
      "source": [
        "TEST_SIZE = 60\n",
        "\n",
        "train = df_scaled[:-TEST_SIZE]\n",
        "test = df_scaled[-TEST_SIZE:]"
      ],
      "metadata": {
        "id": "7AB8tEE6XQf6"
      },
      "execution_count": null,
      "outputs": []
    },
    {
      "cell_type": "code",
      "source": [
        "from sklearn.model_selection import train_test_split\n",
        "\n",
        "feature_cols = ['평균기온(℃)','평균최고기온(℃)','최고기온(℃)','평균최저기온(℃)','최저기온(℃)','강수량','인구','아황산가스','일산화탄소','이산화질소','철새 합계'] \n",
        "label_cols = ['철새 합계']\n",
        "\n",
        "train_feature = train.iloc[:, :-1]\n",
        "train_label = train.iloc[:, -1]\n",
        "\n",
        "test_feature = test.iloc[:, :-1]\n",
        "test_label = test.iloc[:, -1]\n",
        "\n",
        "\n",
        "x_train, x_valid, y_train, y_valid = train_test_split(train_feature, train_label, test_size=0.2)\n",
        "\n",
        "x_train.shape, x_valid.shape"
      ],
      "metadata": {
        "id": "jLkmWGqUXRhB"
      },
      "execution_count": null,
      "outputs": []
    },
    {
      "cell_type": "code",
      "source": [
        "prediction_data\n",
        "\n",
        "prediction_data.sort_index(ascending=False).reset_index(drop=True)\n",
        "\n",
        "scaler = MinMaxScaler()\n",
        "scale_cols = ['평균기온(℃)','평균최고기온(℃)','최고기온(℃)','평균최저기온(℃)','최저기온(℃)','강수량','인구','아황산가스','일산화탄소','이산화질소','철새 합계'] ##수정 필요\n",
        "pdf_scaled = scaler.fit_transform(prediction_data[scale_cols])\n",
        "pdf_scaled = pd.DataFrame(pdf_scaled)\n",
        "pdf_scaled.columns = scale_cols\n",
        "\n",
        "pdf_scaled"
      ],
      "metadata": {
        "id": "Gc712aafXUTs"
      },
      "execution_count": null,
      "outputs": []
    },
    {
      "cell_type": "code",
      "source": [
        "pdf_scaled.columns"
      ],
      "metadata": {
        "id": "MNioVZc9XV82"
      },
      "execution_count": null,
      "outputs": []
    },
    {
      "cell_type": "code",
      "source": [
        "from sklearn.model_selection import train_test_split\n",
        "\n",
        "prediction_feature=pdf_scaled[['평균기온(℃)', '평균최고기온(℃)', '최고기온(℃)', '평균최저기온(℃)', '최저기온(℃)', '강수량', '인구','아황산가스', '일산화탄소', '이산화질소']]\n",
        "prediction_feature"
      ],
      "metadata": {
        "id": "aObBe2tUXW5T"
      },
      "execution_count": null,
      "outputs": []
    },
    {
      "cell_type": "markdown",
      "source": [
        "# **DNN**"
      ],
      "metadata": {
        "id": "FCHo-oY1XZiC"
      }
    },
    {
      "cell_type": "code",
      "source": [
        "from keras.models import Sequential\n",
        "from keras.layers import Dense\n",
        "\n",
        "model= Sequential()\n",
        "model.add(Dense(128, activation=\"relu\", input_shape=(x_train.shape[1],)))\n",
        "model.add(Dense(64, activation=\"relu\"))  \n",
        "model.add(Dense(32, activation=\"relu\"))  \n",
        "model.add(Dense(16, activation=\"relu\"))\n",
        "model.add(Dense(1))\n",
        "model.compile(loss='mean_squared_error', optimizer='adam')\n",
        "\n",
        "\n",
        "model.fit(x_train, y_train)\n",
        "pred_y = model.predict(test_feature)\n",
        "\n",
        "plt.plot(test_label.array, label = 'actual')\n",
        "plt.plot(pred_y, label = 'prediction')\n",
        "plt.legend()\n",
        "plt.show()\n"
      ],
      "metadata": {
        "id": "356iUVcWXa1I"
      },
      "execution_count": null,
      "outputs": []
    },
    {
      "cell_type": "markdown",
      "source": [
        "# **Linear**"
      ],
      "metadata": {
        "id": "7jSkwnNDXcEz"
      }
    },
    {
      "cell_type": "code",
      "source": [
        "from sklearn.linear_model import LinearRegression\n",
        "\n",
        "model_linear = LinearRegression()\n",
        "model_linear.fit(x_train, y_train)\n",
        "linear_pred_y = model_linear.predict(test_feature)\n",
        "\n",
        "plt.plot(test_label.array, label = 'actual')\n",
        "plt.plot(linear_pred_y, label = 'prediction')\n",
        "plt.legend()\n",
        "plt.show()"
      ],
      "metadata": {
        "id": "m7yt68bpXe8I"
      },
      "execution_count": null,
      "outputs": []
    }
  ]
}